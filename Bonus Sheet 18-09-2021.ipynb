{
 "cells": [
  {
   "cell_type": "markdown",
   "id": "5b20af98",
   "metadata": {},
   "source": [
    "# Practice your variables!\n",
    "Course: BBA 108-Essentials of Computing & Coding\n",
    "\n",
    "Submission date: Sunday (19/09/21), 11:59 p.m.\n",
    "\n",
    "Hey everyone! This is a practice bonus assignment worth 10 points. I **highly** encourage all of you to do this.\n",
    "\n",
    "Please contact the following **on Slack** if there are any questions or issues:\n",
    "\n",
    "- @Shourya Watwani \n",
    "- @Vanshika Raj \n",
    "- @Aryan Gupta \n",
    "\n",
    "Thank you! Happy coding :)\n"
   ]
  },
  {
   "cell_type": "code",
   "execution_count": 1,
   "id": "d7643d51",
   "metadata": {},
   "outputs": [
    {
     "data": {
      "text/plain": [
       "'Niramay Kanodia'"
      ]
     },
     "execution_count": 1,
     "metadata": {},
     "output_type": "execute_result"
    }
   ],
   "source": [
    "# Create and print a variable to tell us your name.\n",
    "my_name = \"Niramay Kanodia\"\n",
    "my_name"
   ]
  },
  {
   "cell_type": "code",
   "execution_count": 2,
   "id": "a48e84de",
   "metadata": {},
   "outputs": [
    {
     "data": {
      "text/plain": [
       "17"
      ]
     },
     "execution_count": 2,
     "metadata": {},
     "output_type": "execute_result"
    }
   ],
   "source": [
    "# Create and print a variable to tell us your age.\n",
    "my_age = 17\n",
    "my_age"
   ]
  },
  {
   "cell_type": "code",
   "execution_count": 3,
   "id": "fb242ec5",
   "metadata": {},
   "outputs": [
    {
     "data": {
      "text/plain": [
       "25"
      ]
     },
     "execution_count": 3,
     "metadata": {},
     "output_type": "execute_result"
    }
   ],
   "source": [
    "# Create and print a variable to tell us how many times you've taken a trip within India.\n",
    "trip_within_india = 25\n",
    "trip_within_india"
   ]
  },
  {
   "cell_type": "code",
   "execution_count": 4,
   "id": "ac849402",
   "metadata": {},
   "outputs": [
    {
     "data": {
      "text/plain": [
       "0"
      ]
     },
     "execution_count": 4,
     "metadata": {},
     "output_type": "execute_result"
    }
   ],
   "source": [
    "# Create and print a variable to tell us how many times you've taken a trip outside India.\n",
    "trip_outside_india = 0\n",
    "trip_outside_india"
   ]
  },
  {
   "cell_type": "code",
   "execution_count": 5,
   "id": "bf7668ee",
   "metadata": {},
   "outputs": [
    {
     "data": {
      "text/plain": [
       "25"
      ]
     },
     "execution_count": 5,
     "metadata": {},
     "output_type": "execute_result"
    }
   ],
   "source": [
    "# Create and print a variable to calculate the total number of trips you've taken.\n",
    "total_trips = (trip_within_india+trip_outside_india)\n",
    "total_trips"
   ]
  },
  {
   "cell_type": "code",
   "execution_count": 6,
   "id": "52224f94",
   "metadata": {},
   "outputs": [
    {
     "data": {
      "text/plain": [
       "'25 Times'"
      ]
     },
     "execution_count": 6,
     "metadata": {},
     "output_type": "execute_result"
    }
   ],
   "source": [
    "# Create and print a variable to tell us total number of trips you've taken, using the numeric value in a sentence.\n",
    "total_number_of_trips = str((25)) + \" Times\"\n",
    "total_number_of_trips"
   ]
  },
  {
   "cell_type": "code",
   "execution_count": 7,
   "id": "612c68f3",
   "metadata": {},
   "outputs": [
    {
     "data": {
      "text/plain": [
       "True"
      ]
     },
     "execution_count": 7,
     "metadata": {},
     "output_type": "execute_result"
    }
   ],
   "source": [
    "# Create and print a variable to tell us whether the statement-\n",
    "# -\"I have taken more trips within India than outside India\" is true or false using boolean variables.\n",
    "more_trips_in_india_than_outside_india = trip_within_india > trip_outside_india\n",
    "more_trips_in_india_than_outside_india"
   ]
  },
  {
   "cell_type": "code",
   "execution_count": 8,
   "id": "aaee2c68",
   "metadata": {},
   "outputs": [
    {
     "data": {
      "text/plain": [
       "21.0"
      ]
     },
     "execution_count": 8,
     "metadata": {},
     "output_type": "execute_result"
    }
   ],
   "source": [
    "# Create and print a variable to calculate the average number of trips you've taken in a year using-\n",
    "# your total number of trips and your age.\n",
    "average_number_of_trips = (total_trips+my_age)/2\n",
    "average_number_of_trips"
   ]
  },
  {
   "cell_type": "code",
   "execution_count": 9,
   "id": "810f16f4",
   "metadata": {},
   "outputs": [
    {
     "data": {
      "text/plain": [
       "'12.5 Trips'"
      ]
     },
     "execution_count": 9,
     "metadata": {},
     "output_type": "execute_result"
    }
   ],
   "source": [
    "# Create and print a variable to tell us average number of trips you've taken, using the numeric value in a sentence.\n",
    "average_trips = str((trip_within_india+trip_outside_india)/2) + \" Trips\"\n",
    "average_trips"
   ]
  },
  {
   "cell_type": "code",
   "execution_count": null,
   "id": "8a6494d1",
   "metadata": {},
   "outputs": [],
   "source": []
  }
 ],
 "metadata": {
  "kernelspec": {
   "display_name": "Python 3",
   "language": "python",
   "name": "python3"
  },
  "language_info": {
   "codemirror_mode": {
    "name": "ipython",
    "version": 3
   },
   "file_extension": ".py",
   "mimetype": "text/x-python",
   "name": "python",
   "nbconvert_exporter": "python",
   "pygments_lexer": "ipython3",
   "version": "3.8.8"
  }
 },
 "nbformat": 4,
 "nbformat_minor": 5
}
